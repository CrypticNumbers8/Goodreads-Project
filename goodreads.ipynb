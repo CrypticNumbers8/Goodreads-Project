{
 "cells": [
  {
   "cell_type": "code",
   "execution_count": null,
   "metadata": {},
   "outputs": [],
   "source": [
    "import numpy as np #Working with arrays\n",
    "import pandas as pd #DataFrames\n",
    "import os \n",
    "import seaborn as sns #Plotting and Data Visualization\n",
    "import isbnlib #Data for ISBN strings\n",
    "from newspaper import Article #For Extracting articles\n",
    "import matplotlib.pyplot as plt #Module in matplotlib\n",
    "plt.style.use('ggplot')\n",
    "from tqdm import tqdm #Progressbars\n",
    "from progressbar import ProgressBar\n",
    "import re #Regular Expressions\n",
    "from scipy.cluster.vq import kmeans,vq #K-means clustering and vector quantization (scipy.cluster.vq)\n",
    "from pylab import plot,show #Bulk import matplotlib and numpy\n",
    "from matplotlib.lines import Line2D \n",
    "import matplotlib.colors as mcolors\n",
    "import goodreads_api_client as gr #A lightweight wrapper around the Goodreads API\n",
    "from sklearn.cluster import KMeans #Kmeans clustering\n",
    "from sklearn import neighbors #neigbor based learning methods\n",
    "from sklearn.model_selection import train_test_split\n",
    "from sklearn.preprocessing import MinMaxScaler #For feature scaling\n",
    "\n",
    "import warnings\n",
    "warnings.filterwarnings(\"ignore\")"
   ]
  },
  {
   "cell_type": "code",
   "execution_count": null,
   "metadata": {},
   "outputs": [],
   "source": [
    "d1 = pd.read_csv('C:/Users/arvin/OneDrive/Desktop/Completed Projects/Goodreads/books.csv', error_bad_lines = False)\n",
    "#Drop Bad lines\n",
    "\n",
    "#print(d1.tail(5))\n",
    "\n",
    "d1.index = d1['bookID']\n",
    "print(d1.shape) #Finding number of rows and columns\n",
    "\n",
    "d1.replace(to_replace = 'J.K. Rowling/Mary GrandPré', value = 'J.K. Rowling', inplace=True)#Removing JK Rowling's co-author name\n",
    "d1.head()"
   ]
  },
  {
   "cell_type": "code",
   "execution_count": null,
   "metadata": {},
   "outputs": [],
   "source": [
    "#Exploratory Data Analysis\n",
    "\n",
    "#Find language counts\n",
    "sns.set_context('paper')\n",
    "plt.figure(figsize=(15,10))\n",
    "ax = d1.groupby('language_code')['title'].count().plot.bar()\n",
    "plt.title('Language code of books frequency')\n",
    "plt.xticks(rotation = 45, fontsize = 15)\n",
    "\n",
    "#Add details inside the graph\n",
    "for i in ax.patches:\n",
    "    ax.annotate(str(i.get_height()), (i.get_x()-0.3, i.get_height()+100))\n",
    "\n",
    "#Conclusion: books in eng, eng_US, eng_GB language are read by almost all the reviwers"
   ]
  },
  {
   "cell_type": "code",
   "execution_count": null,
   "metadata": {},
   "outputs": [],
   "source": [
    "#Top Books with many publishers\n",
    "sns.set_context('poster')\n",
    "plt.figure(figsize = (20,15))\n",
    "books = d1['title'].value_counts()[:25]#Books having multiple Publishers\n",
    "#print(books)\n",
    "rating = d1.average_rating[:25]\n",
    "#print(rating)\n",
    "sns.barplot(x=books,y=books.index, palette = 'rocket')\n",
    "plt.title(\"Highest frequency Books\")\n",
    "plt.xlabel(\"High Freq Books\")\n",
    "plt.ylabel(\"Title of books\")\n",
    "plt.show()\n",
    "\n",
    "#Conclusion: Dostoyevsky's Brothers Karamazov and The Illiad are published by multiple publishers"
   ]
  },
  {
   "cell_type": "code",
   "execution_count": null,
   "metadata": {},
   "outputs": [],
   "source": [
    "#TOP 10 Most rated Books\n",
    "mrated = d1.sort_values('ratings_count',ascending = False).head(10).set_index('title')\n",
    "plt.figure(figsize = (15,10))\n",
    "sns.barplot(mrated['ratings_count'], mrated.index, palette = 'deep')\n",
    "\n",
    "#Conclusion: Twilight #1 has exceptionally high no. of reviewers than other books"
   ]
  },
  {
   "cell_type": "code",
   "execution_count": null,
   "metadata": {},
   "outputs": [],
   "source": [
    "#Authors with most books\n",
    "sns.set_context('talk')\n",
    "big_authors = d1.groupby('authors')['title'].count().reset_index().sort_values('title', ascending = False).head(10).set_index('authors')\n",
    "plt.figure(figsize = (15,10))\n",
    "ax1 = sns.barplot(big_authors['title'],big_authors.index,palette = 'rocket')\n",
    "ax1.set_title(\"Top 10 Authors with most number of books\")\n",
    "ax1.set_xlabel(\"total no of books\")\n",
    "\n",
    "#Conclusion: King,Wodehouse and Takahashi have written the most number of books"
   ]
  },
  {
   "cell_type": "code",
   "execution_count": null,
   "metadata": {},
   "outputs": [],
   "source": [
    "d1['authors'].value_counts().head(10)"
   ]
  },
  {
   "cell_type": "code",
   "execution_count": null,
   "metadata": {},
   "outputs": [],
   "source": [
    "#Most Highly rated Authors\n",
    "\n",
    "high_authors = d1[d1['average_rating']>= 4.4]\n",
    "high_authors = high_authors.groupby('authors')['title'].count().reset_index().sort_values('title', ascending = False).head(10).set_index('authors')\n",
    "plt.figure(figsize = (15,10))\n",
    "ax2 = sns.barplot(high_authors['title'], high_authors.index, palette = 'icefire_r')\n",
    "ax2.set_xlabel(\"No. of BOOKS\")\n",
    "ax2.set_ylabel(\"Authors\")\n",
    "\n",
    "#Conclusion: Rowling, Watanabe are the 2 most highly rated authors among the reviewers"
   ]
  },
  {
   "cell_type": "code",
   "execution_count": null,
   "metadata": {},
   "outputs": [],
   "source": [
    "d1.average_rating.isnull().value_counts()\n",
    "d1.dropna(0, inplace=True) #Removing any null values\n",
    "\n",
    "plt.figure(figsize = (15,15))\n",
    "ratings = d1.average_rating.astype('float')\n",
    "sns.distplot(ratings, bins = 20)\n",
    "\n",
    "#Conclusion: Distplot shows that most of the ratings are nearby 4"
   ]
  },
  {
   "cell_type": "code",
   "execution_count": null,
   "metadata": {},
   "outputs": [],
   "source": [
    "#Rating segregation of books\n",
    "def segregation(data):\n",
    "    val = []\n",
    "    for i in data.average_rating:\n",
    "        if i>=0 and i<=1:\n",
    "            val.append(\"From 0 to 1\")\n",
    "        elif i>1 and i<=2:\n",
    "            val.append(\"From 1 to 2\")\n",
    "        elif i>2 and i<=3:\n",
    "            val.append(\"From 2 to 3\")\n",
    "        elif i>3 and i<=4:\n",
    "            val.append(\"From 3 to 4\")\n",
    "        elif i>4 and i<=5:\n",
    "            val.append(\"From 4 to 5\")\n",
    "        else:\n",
    "            val.append(\"NaN\")\n",
    "    print(len(val))\n",
    "    return val\n",
    "    \n",
    "d1['Ratings_Dist'] = segregation(d1)\n",
    "d1.head()"
   ]
  },
  {
   "cell_type": "code",
   "execution_count": null,
   "metadata": {},
   "outputs": [],
   "source": [
    "#Pie Chart based on ratings\n",
    "pies = d1['Ratings_Dist'].value_counts().reset_index()\n",
    "#print(pies)\n",
    "labels = pies['index']\n",
    "colors = ['blue','green','red','black','yellow']\n",
    "percent = 100.*pies['Ratings_Dist']/pies['Ratings_Dist'].sum()\n",
    "#print(labels)\n",
    "#print(percent)\n",
    "fig, ax3 = plt.subplots()\n",
    "ax3.pie(pies['Ratings_Dist'],colors = colors, pctdistance = 0.75, startangle = 90, explode = (0.05, 0.05,0.05, 0.05, 0.05))\n",
    "centre = plt.Circle((0,0), 0.5, fc = 'white')\n",
    "fig1 = plt.gcf()\n",
    "fig1.gca().add_artist(centre)\n",
    "plt.axis('equal')\n",
    "plt.tight_layout()\n",
    "plt.legend(labels, loc = 'upper left', shadow = True, prop = {'size':9},fontsize = 'x-small')\n",
    "\n",
    "#Conclusion: Ratings from 0 to 3 are extremely rare because if people rate at least 3 even if they end up finishing a bad book"
   ]
  },
  {
   "cell_type": "code",
   "execution_count": null,
   "metadata": {},
   "outputs": [],
   "source": [
    "#Relation between ratings and review counts\n",
    "plt.figure(figsize = (15,10))\n",
    "sns.set_context('paper')\n",
    "ax4 = sns.jointplot(x=\"average_rating\", y = 'text_reviews_count', kind = 'scatter', data = d1[['text_reviews_count', 'average_rating']])\n",
    "ax4.set_axis_labels(\"Average Rating\", \"Text Review Count\")\n",
    "plt.show()\n",
    "\n",
    "#Conclusion: Most amounts of reviews(~5000) are between 3 and 4"
   ]
  },
  {
   "cell_type": "code",
   "execution_count": null,
   "metadata": {},
   "outputs": [],
   "source": [
    "trial = d1[~(d1['text_reviews_count']>5000)]\n",
    "plt.figure(figsize = (15,10))\n",
    "d1.dropna(0, inplace = True)\n",
    "sns.set_context('paper')\n",
    "ax5 = sns.jointplot(x = 'average_rating', y = 'text_reviews_count', kind = 'scatter', data = trial, color = 'blue')\n",
    "ax5.set_axis_labels(\"Average Rating\", \"text review count\")\n",
    "plt.show()\n",
    "\n",
    "#Conclusion: Many books that have rating between 3-4 are having 0-2000 reviews"
   ]
  },
  {
   "cell_type": "code",
   "execution_count": null,
   "metadata": {},
   "outputs": [],
   "source": [
    "#Relation between number of pages and ratings\n",
    "sns.set_context('paper')\n",
    "ax6 = sns.jointplot(x= \"average_rating\", y = \"  num_pages\", data = d1, color = 'green')\n",
    "ax6.set_axis_labels(\"Average Rating\", \"Number of Pages\")\n",
    "\n",
    "#Counclusion: The page count below 1000 has maximum no of ratings as people don't like to read thick books"
   ]
  },
  {
   "cell_type": "code",
   "execution_count": null,
   "metadata": {},
   "outputs": [],
   "source": [
    "trial1 = d1[~(d1['  num_pages']>1000)]\n",
    "ax7 = sns.jointplot(x = 'average_rating', y = '  num_pages', data = trial1, color='maroon')\n",
    "ax7.set_axis_labels(\"Average Rating\", \"Number of pages\")\n",
    "\n",
    "#Most ratings are given for page range of 150-400, which shows that thicker books are read rarer among the general public"
   ]
  },
  {
   "cell_type": "code",
   "execution_count": null,
   "metadata": {},
   "outputs": [],
   "source": [
    "#Relation between ratings and rating counts\n",
    "sns.set_context('paper')\n",
    "ax8 = sns.jointplot(x = 'average_rating', y ='ratings_count', data = d1, color = 'black')\n",
    "ax8.set_axis_labels(\"average ratings\", \"no of ratings\")\n",
    "\n",
    "#Conclusion: For a better outlook, let's consider the count around 2000000 ratings"
   ]
  },
  {
   "cell_type": "code",
   "execution_count": null,
   "metadata": {},
   "outputs": [],
   "source": [
    "trial3 = d1[~(d1['ratings_count']>1000000)]\n",
    "ax9 = sns.jointplot(x='average_rating', y = 'ratings_count', data = trial3, color = 'blueviolet')\n",
    "ax9.set_axis_labels(\"average ratings\", \"no of ratings\")\n",
    "\n",
    "#Conclusion: As the no of ratings increase, rating for book asymptotes towards rating=4"
   ]
  },
  {
   "cell_type": "code",
   "execution_count": null,
   "metadata": {},
   "outputs": [],
   "source": [
    "#Books with highest reviews\n",
    "most_text = d1.sort_values('text_reviews_count', ascending = False).head(10).set_index('title')\n",
    "plt.figure(figsize = (15,10))\n",
    "sns.set_context('poster')\n",
    "ax10 = sns.barplot(most_text['text_reviews_count'], most_text.index, palette = 'rocket')\n",
    "plt.show()\n",
    "\n",
    "#Conclusion: Twilight and The Book Thief has the most no of reviews"
   ]
  },
  {
   "cell_type": "code",
   "execution_count": null,
   "metadata": {},
   "outputs": [],
   "source": [
    "#Find a relationship between the rating count and avg rating\n",
    "\n",
    "trial4 = d1[['average_rating', 'ratings_count']]\n",
    "data = np.asarray([np.asarray(trial4['average_rating']), np.asarray(trial4['ratings_count'])]).T\n",
    "print(data)"
   ]
  },
  {
   "cell_type": "code",
   "execution_count": null,
   "metadata": {
    "scrolled": true
   },
   "outputs": [],
   "source": [
    "#Using elbow curve method to find no. of clusters for data\n",
    "\n",
    "x = data\n",
    "distortions = []\n",
    "for k in range(2,30):\n",
    "    k_means = KMeans(n_clusters = k)\n",
    "    k_means.fit(x)\n",
    "    distortions.append(k_means.inertia_)\n",
    "    \n",
    "fig = plt.figure(figsize = (15,10))\n",
    "plt.plot(range(2,30), distortions, 'bx-')\n",
    "plt.title(\"Elbow Curve\")\n",
    "\n",
    "#Elbow lies around value K=5"
   ]
  },
  {
   "cell_type": "code",
   "execution_count": null,
   "metadata": {},
   "outputs": [],
   "source": [
    "#Computing K means with K = 5\n",
    "\n",
    "centroids,_ = kmeans(data,5)\n",
    "\n",
    "#assigning each sample to a cluster\n",
    "#Vector Quantisation:\n",
    "idx,_ = vq(data,centroids)"
   ]
  },
  {
   "cell_type": "code",
   "execution_count": null,
   "metadata": {},
   "outputs": [],
   "source": [
    "#Computing K means with K = 5, thus, taking it as 5 clusters\n",
    "centroids, _ = kmeans(data, 5)\n",
    "\n",
    "#assigning each sample to a cluster\n",
    "#Vector Quantisation:\n",
    "\n",
    "idx, _ = vq(data, centroids)\n",
    "# some plotting using numpy's logical indexing\n",
    "sns.set_context('paper')\n",
    "plt.figure(figsize=(15,10))\n",
    "plt.plot(data[idx==0,0],data[idx==0,1],'or',#red circles\n",
    "     data[idx==1,0],data[idx==1,1],'ob',#blue circles\n",
    "     data[idx==2,0],data[idx==2,1],'oy', #yellow circles\n",
    "     data[idx==3,0],data[idx==3,1],'om', #magenta circles\n",
    "     data[idx==4,0],data[idx==4,1],'ok',#black circles\n",
    "        )\n",
    "plt.plot(centroids[:,0],centroids[:,1],'sg',markersize=8)\n",
    "\n",
    "circle1 = Line2D(range(1), range(1), color = 'red', linewidth = 0, marker= 'o', markerfacecolor='red')\n",
    "circle2 = Line2D(range(1), range(1), color = 'blue', linewidth = 0,marker= 'o', markerfacecolor='blue')\n",
    "circle3 = Line2D(range(1), range(1), color = 'yellow',linewidth= 0,  marker= 'o', markerfacecolor='yellow')\n",
    "circle4 = Line2D(range(1), range(1), color = 'magenta', linewidth= 0,marker= 'o', markerfacecolor='magenta')\n",
    "circle5 = Line2D(range(1), range(1), color = 'black', linewidth = 0,marker= 'o', markerfacecolor='black')\n",
    "\n",
    "plt.legend((circle1, circle2, circle3, circle4, circle5)\n",
    "           , ('Cluster 1','Cluster 2', 'Cluster 3', 'Cluster 4', 'Cluster 5'), numpoints = 1, loc = 0, )\n",
    "\n",
    "\n",
    "plt.show()\n"
   ]
  },
  {
   "cell_type": "code",
   "execution_count": null,
   "metadata": {},
   "outputs": [],
   "source": [
    "#Finding outliers and removing them\n",
    "trial4.idxmax()"
   ]
  },
  {
   "cell_type": "code",
   "execution_count": null,
   "metadata": {},
   "outputs": [],
   "source": [
    "trial4.drop(41865, inplace = True)\n"
   ]
  },
  {
   "cell_type": "code",
   "execution_count": null,
   "metadata": {},
   "outputs": [],
   "source": [
    "data = np.asarray([np.asarray(trial['average_rating']), np.asarray(trial['ratings_count'])]).T\n",
    "#Computing K means with K = 8, thus, taking it as 8 clusters\n",
    "centroids, _ = kmeans(data, 5)\n",
    "\n",
    "#assigning each sample to a cluster\n",
    "#Vector Quantisation:\n",
    "\n",
    "idx, _ = vq(data, centroids)\n",
    "# some plotting using numpy's logical indexing\n",
    "sns.set_context('paper')\n",
    "plt.figure(figsize=(15,10))\n",
    "plt.plot(data[idx==0,0],data[idx==0,1],'or',#red circles\n",
    "     data[idx==1,0],data[idx==1,1],'ob',#blue circles\n",
    "     data[idx==2,0],data[idx==2,1],'oy', #yellow circles\n",
    "     data[idx==3,0],data[idx==3,1],'om', #magenta circles\n",
    "     data[idx==4,0],data[idx==4,1],'ok',#black circles\n",
    "    \n",
    "     \n",
    "        \n",
    "        \n",
    "        \n",
    "        \n",
    "        )\n",
    "plt.plot(centroids[:,0],centroids[:,1],'sg',markersize=8, )\n",
    "\n",
    "\n",
    "\n",
    "\n",
    "circle1 = Line2D(range(1), range(1), color = 'red', linewidth = 0, marker= 'o', markerfacecolor='red')\n",
    "circle2 = Line2D(range(1), range(1), color = 'blue', linewidth = 0,marker= 'o', markerfacecolor='blue')\n",
    "circle3 = Line2D(range(1), range(1), color = 'yellow',linewidth=0,  marker= 'o', markerfacecolor='yellow')\n",
    "circle4 = Line2D(range(1), range(1), color = 'magenta', linewidth=0,marker= 'o', markerfacecolor='magenta')\n",
    "circle5 = Line2D(range(1), range(1), color = 'black', linewidth = 0,marker= 'o', markerfacecolor='black')\n",
    "\n",
    "plt.legend((circle1, circle2, circle3, circle4, circle5)\n",
    "           , ('Cluster 1','Cluster 2', 'Cluster 3', 'Cluster 4', 'Cluster 5'), numpoints = 1, loc = 0, )\n",
    "\n",
    "\n",
    "plt.show()\n",
    "\n",
    "#Conclusion: The green squares are the centroids for the given clusters. \n",
    "#As the rating count seems to decrease, the average rating seems to become sparser, with higher volatility and less accuracy.\n",
    "\n"
   ]
  },
  {
   "cell_type": "code",
   "execution_count": null,
   "metadata": {},
   "outputs": [],
   "source": [
    "#Building the recommendation system\n",
    "books_features = pd.concat([d1['Ratings_Dist'].str.get_dummies(sep=\",\"), d1['average_rating'], d1['ratings_count']], axis=1)\n"
   ]
  },
  {
   "cell_type": "code",
   "execution_count": null,
   "metadata": {},
   "outputs": [],
   "source": [
    "books_features.head()\n"
   ]
  },
  {
   "cell_type": "code",
   "execution_count": null,
   "metadata": {},
   "outputs": [],
   "source": [
    "min_max_scaler = MinMaxScaler()\n",
    "books_features = min_max_scaler.fit_transform(books_features)\n",
    "np.round(books_features, 2)\n"
   ]
  },
  {
   "cell_type": "code",
   "execution_count": null,
   "metadata": {},
   "outputs": [],
   "source": [
    "model = neighbors.NearestNeighbors(n_neighbors=6, algorithm='ball_tree')\n",
    "model.fit(books_features)\n",
    "distance, indices = model.kneighbors(books_features)\n"
   ]
  },
  {
   "cell_type": "code",
   "execution_count": null,
   "metadata": {},
   "outputs": [],
   "source": [
    "def get_index_from_name(name):\n",
    "    return d1[d1[\"title\"]==name].index.tolist()[0]\n",
    "\n",
    "all_books_names = list(d1.title.values)\n",
    "\n",
    "def get_id_from_partial_name(partial):\n",
    "    for name in all_books_names:\n",
    "        if partial in name:\n",
    "            print(name,all_books_names.index(name))\n",
    "            \n",
    "def print_similar_books(query=None,id=None):\n",
    "    if id:\n",
    "        for id in indices[id][1:]:\n",
    "            print(d1.iloc[id][\"title\"])\n",
    "    if query:\n",
    "        found_id = get_index_from_name(query)\n",
    "        for id in indices[found_id][1:]:\n",
    "            print(d1.iloc[id][\"title\"])"
   ]
  },
  {
   "cell_type": "code",
   "execution_count": null,
   "metadata": {},
   "outputs": [],
   "source": [
    "print_similar_books(\"The Catcher in the Rye\")"
   ]
  },
  {
   "cell_type": "code",
   "execution_count": null,
   "metadata": {},
   "outputs": [],
   "source": [
    "print_similar_books(\"The Brothers Karamazov\")"
   ]
  },
  {
   "cell_type": "code",
   "execution_count": null,
   "metadata": {},
   "outputs": [],
   "source": [
    "get_id_from_partial_name(\"Harry Potter and the \")\n"
   ]
  },
  {
   "cell_type": "code",
   "execution_count": null,
   "metadata": {},
   "outputs": [],
   "source": [
    "print_similar_books(id = 1) #ID for the Book 5\n"
   ]
  },
  {
   "cell_type": "code",
   "execution_count": null,
   "metadata": {},
   "outputs": [],
   "source": [
    "#_______________"
   ]
  }
 ],
 "metadata": {
  "kernelspec": {
   "display_name": "Python 3",
   "language": "python",
   "name": "python3"
  },
  "language_info": {
   "codemirror_mode": {
    "name": "ipython",
    "version": 3
   },
   "file_extension": ".py",
   "mimetype": "text/x-python",
   "name": "python",
   "nbconvert_exporter": "python",
   "pygments_lexer": "ipython3",
   "version": "3.7.4"
  }
 },
 "nbformat": 4,
 "nbformat_minor": 4
}
